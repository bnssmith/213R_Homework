{
 "cells": [
  {
   "cell_type": "markdown",
   "metadata": {
    "collapsed": true
   },
   "source": [
    "# Homework 2"
   ]
  },
  {
   "cell_type": "markdown",
   "metadata": {},
   "source": [
    "Ben Smith\n",
    "\n",
    "ECON 213R\n",
    "\n",
    "10/13/18"
   ]
  },
  {
   "cell_type": "markdown",
   "metadata": {},
   "source": [
    "We will test several models to estimate housing prices for Kaggle's test set. First, after we take a look at our data and clean it a little, we use a couple models discussed in class. After that, we will also try a model based on several kernels that are available on Kaggle. In the end, we will take a look at which ones seem best and create a model based on the best-performing ones we tried.\n",
    "\n",
    "I thank Professor Folkman, as well as Serigne, Pedro Marcelino, DanB, and Hyun Woo Kim from Kaggle for inspiring important parts of my code.\n",
    "\n",
    "Some links to their work are:\n",
    "\n",
    "Professor Folkman's GitHub: https://github.com/tfolkman/byu_econ_applied_machine_learning/tree/master/lectures \n",
    "\n",
    "Serigne's kernel: https://www.kaggle.com/serigne/stacked-regressions-top-4-on-leaderboard\n",
    "\n",
    "Pedro Marcelino's kernel: https://www.kaggle.com/pmarcelino/comprehensive-data-exploration-with-python\n",
    "\n",
    "DanB's kernels: https://www.kaggle.com/dansbecker/xgboost and https://www.kaggle.com/dansbecker/submitting-from-a-kernel\n",
    "\n",
    "Hyun Woo Kim's kernel: https://www.kaggle.com/chocozzz/week1-exploratory-data-analysis-with-pyhton/notebook"
   ]
  },
  {
   "cell_type": "markdown",
   "metadata": {},
   "source": [
    "First, let's import the modules we'll need, as well as our data."
   ]
  },
  {
   "cell_type": "code",
   "execution_count": 454,
   "metadata": {},
   "outputs": [],
   "source": [
    "import os\n",
    "import pandas as pd\n",
    "from sklearn.linear_model import SGDRegressor, ElasticNetCV\n",
    "from sklearn.metrics import mean_squared_error, make_scorer, f1_score, classification_report, accuracy_score\n",
    "from sklearn.preprocessing import StandardScaler, PolynomialFeatures\n",
    "from sklearn.utils import resample\n",
    "from sklearn.model_selection import train_test_split, learning_curve, RandomizedSearchCV, GridSearchCV\n",
    "from sklearn.neighbors import KNeighborsClassifier, KNeighborsRegressor\n",
    "import numpy as np\n",
    "import matplotlib.pyplot as plt\n",
    "import seaborn as sns\n",
    "from scipy import stats\n",
    "from scipy.stats import norm, skew\n",
    "from xgboost import XGBRegressor\n",
    "%matplotlib inline"
   ]
  },
  {
   "cell_type": "code",
   "execution_count": 455,
   "metadata": {
    "collapsed": true
   },
   "outputs": [],
   "source": [
    "wrkdir = 'C:/Users//Ben Smith//Downloads'\n",
    "\n",
    "os.chdir(wrkdir)\n",
    "\n",
    "trainfile = pd.read_csv('train.csv')\n",
    "testfile = pd.read_csv('test.csv')"
   ]
  },
  {
   "cell_type": "code",
   "execution_count": 456,
   "metadata": {},
   "outputs": [
    {
     "data": {
      "text/html": [
       "<div>\n",
       "<style>\n",
       "    .dataframe thead tr:only-child th {\n",
       "        text-align: right;\n",
       "    }\n",
       "\n",
       "    .dataframe thead th {\n",
       "        text-align: left;\n",
       "    }\n",
       "\n",
       "    .dataframe tbody tr th {\n",
       "        vertical-align: top;\n",
       "    }\n",
       "</style>\n",
       "<table border=\"1\" class=\"dataframe\">\n",
       "  <thead>\n",
       "    <tr style=\"text-align: right;\">\n",
       "      <th></th>\n",
       "      <th>Id</th>\n",
       "      <th>MSSubClass</th>\n",
       "      <th>MSZoning</th>\n",
       "      <th>LotFrontage</th>\n",
       "      <th>LotArea</th>\n",
       "      <th>Street</th>\n",
       "      <th>Alley</th>\n",
       "      <th>LotShape</th>\n",
       "      <th>LandContour</th>\n",
       "      <th>Utilities</th>\n",
       "      <th>...</th>\n",
       "      <th>PoolArea</th>\n",
       "      <th>PoolQC</th>\n",
       "      <th>Fence</th>\n",
       "      <th>MiscFeature</th>\n",
       "      <th>MiscVal</th>\n",
       "      <th>MoSold</th>\n",
       "      <th>YrSold</th>\n",
       "      <th>SaleType</th>\n",
       "      <th>SaleCondition</th>\n",
       "      <th>SalePrice</th>\n",
       "    </tr>\n",
       "  </thead>\n",
       "  <tbody>\n",
       "    <tr>\n",
       "      <th>0</th>\n",
       "      <td>1</td>\n",
       "      <td>60</td>\n",
       "      <td>RL</td>\n",
       "      <td>65.0</td>\n",
       "      <td>8450</td>\n",
       "      <td>Pave</td>\n",
       "      <td>NaN</td>\n",
       "      <td>Reg</td>\n",
       "      <td>Lvl</td>\n",
       "      <td>AllPub</td>\n",
       "      <td>...</td>\n",
       "      <td>0</td>\n",
       "      <td>NaN</td>\n",
       "      <td>NaN</td>\n",
       "      <td>NaN</td>\n",
       "      <td>0</td>\n",
       "      <td>2</td>\n",
       "      <td>2008</td>\n",
       "      <td>WD</td>\n",
       "      <td>Normal</td>\n",
       "      <td>208500</td>\n",
       "    </tr>\n",
       "    <tr>\n",
       "      <th>1</th>\n",
       "      <td>2</td>\n",
       "      <td>20</td>\n",
       "      <td>RL</td>\n",
       "      <td>80.0</td>\n",
       "      <td>9600</td>\n",
       "      <td>Pave</td>\n",
       "      <td>NaN</td>\n",
       "      <td>Reg</td>\n",
       "      <td>Lvl</td>\n",
       "      <td>AllPub</td>\n",
       "      <td>...</td>\n",
       "      <td>0</td>\n",
       "      <td>NaN</td>\n",
       "      <td>NaN</td>\n",
       "      <td>NaN</td>\n",
       "      <td>0</td>\n",
       "      <td>5</td>\n",
       "      <td>2007</td>\n",
       "      <td>WD</td>\n",
       "      <td>Normal</td>\n",
       "      <td>181500</td>\n",
       "    </tr>\n",
       "    <tr>\n",
       "      <th>2</th>\n",
       "      <td>3</td>\n",
       "      <td>60</td>\n",
       "      <td>RL</td>\n",
       "      <td>68.0</td>\n",
       "      <td>11250</td>\n",
       "      <td>Pave</td>\n",
       "      <td>NaN</td>\n",
       "      <td>IR1</td>\n",
       "      <td>Lvl</td>\n",
       "      <td>AllPub</td>\n",
       "      <td>...</td>\n",
       "      <td>0</td>\n",
       "      <td>NaN</td>\n",
       "      <td>NaN</td>\n",
       "      <td>NaN</td>\n",
       "      <td>0</td>\n",
       "      <td>9</td>\n",
       "      <td>2008</td>\n",
       "      <td>WD</td>\n",
       "      <td>Normal</td>\n",
       "      <td>223500</td>\n",
       "    </tr>\n",
       "  </tbody>\n",
       "</table>\n",
       "<p>3 rows × 81 columns</p>\n",
       "</div>"
      ],
      "text/plain": [
       "   Id  MSSubClass MSZoning  LotFrontage  LotArea Street Alley LotShape  \\\n",
       "0   1          60       RL         65.0     8450   Pave   NaN      Reg   \n",
       "1   2          20       RL         80.0     9600   Pave   NaN      Reg   \n",
       "2   3          60       RL         68.0    11250   Pave   NaN      IR1   \n",
       "\n",
       "  LandContour Utilities    ...     PoolArea PoolQC Fence MiscFeature MiscVal  \\\n",
       "0         Lvl    AllPub    ...            0    NaN   NaN         NaN       0   \n",
       "1         Lvl    AllPub    ...            0    NaN   NaN         NaN       0   \n",
       "2         Lvl    AllPub    ...            0    NaN   NaN         NaN       0   \n",
       "\n",
       "  MoSold YrSold  SaleType  SaleCondition  SalePrice  \n",
       "0      2   2008        WD         Normal     208500  \n",
       "1      5   2007        WD         Normal     181500  \n",
       "2      9   2008        WD         Normal     223500  \n",
       "\n",
       "[3 rows x 81 columns]"
      ]
     },
     "execution_count": 456,
     "metadata": {},
     "output_type": "execute_result"
    }
   ],
   "source": [
    "#Let's check that our train file and test file look good\n",
    "trainfile[:3]"
   ]
  },
  {
   "cell_type": "code",
   "execution_count": 457,
   "metadata": {},
   "outputs": [
    {
     "data": {
      "text/html": [
       "<div>\n",
       "<style>\n",
       "    .dataframe thead tr:only-child th {\n",
       "        text-align: right;\n",
       "    }\n",
       "\n",
       "    .dataframe thead th {\n",
       "        text-align: left;\n",
       "    }\n",
       "\n",
       "    .dataframe tbody tr th {\n",
       "        vertical-align: top;\n",
       "    }\n",
       "</style>\n",
       "<table border=\"1\" class=\"dataframe\">\n",
       "  <thead>\n",
       "    <tr style=\"text-align: right;\">\n",
       "      <th></th>\n",
       "      <th>Id</th>\n",
       "      <th>MSSubClass</th>\n",
       "      <th>MSZoning</th>\n",
       "      <th>LotFrontage</th>\n",
       "      <th>LotArea</th>\n",
       "      <th>Street</th>\n",
       "      <th>Alley</th>\n",
       "      <th>LotShape</th>\n",
       "      <th>LandContour</th>\n",
       "      <th>Utilities</th>\n",
       "      <th>...</th>\n",
       "      <th>ScreenPorch</th>\n",
       "      <th>PoolArea</th>\n",
       "      <th>PoolQC</th>\n",
       "      <th>Fence</th>\n",
       "      <th>MiscFeature</th>\n",
       "      <th>MiscVal</th>\n",
       "      <th>MoSold</th>\n",
       "      <th>YrSold</th>\n",
       "      <th>SaleType</th>\n",
       "      <th>SaleCondition</th>\n",
       "    </tr>\n",
       "  </thead>\n",
       "  <tbody>\n",
       "    <tr>\n",
       "      <th>0</th>\n",
       "      <td>1461</td>\n",
       "      <td>20</td>\n",
       "      <td>RH</td>\n",
       "      <td>80.0</td>\n",
       "      <td>11622</td>\n",
       "      <td>Pave</td>\n",
       "      <td>NaN</td>\n",
       "      <td>Reg</td>\n",
       "      <td>Lvl</td>\n",
       "      <td>AllPub</td>\n",
       "      <td>...</td>\n",
       "      <td>120</td>\n",
       "      <td>0</td>\n",
       "      <td>NaN</td>\n",
       "      <td>MnPrv</td>\n",
       "      <td>NaN</td>\n",
       "      <td>0</td>\n",
       "      <td>6</td>\n",
       "      <td>2010</td>\n",
       "      <td>WD</td>\n",
       "      <td>Normal</td>\n",
       "    </tr>\n",
       "    <tr>\n",
       "      <th>1</th>\n",
       "      <td>1462</td>\n",
       "      <td>20</td>\n",
       "      <td>RL</td>\n",
       "      <td>81.0</td>\n",
       "      <td>14267</td>\n",
       "      <td>Pave</td>\n",
       "      <td>NaN</td>\n",
       "      <td>IR1</td>\n",
       "      <td>Lvl</td>\n",
       "      <td>AllPub</td>\n",
       "      <td>...</td>\n",
       "      <td>0</td>\n",
       "      <td>0</td>\n",
       "      <td>NaN</td>\n",
       "      <td>NaN</td>\n",
       "      <td>Gar2</td>\n",
       "      <td>12500</td>\n",
       "      <td>6</td>\n",
       "      <td>2010</td>\n",
       "      <td>WD</td>\n",
       "      <td>Normal</td>\n",
       "    </tr>\n",
       "    <tr>\n",
       "      <th>2</th>\n",
       "      <td>1463</td>\n",
       "      <td>60</td>\n",
       "      <td>RL</td>\n",
       "      <td>74.0</td>\n",
       "      <td>13830</td>\n",
       "      <td>Pave</td>\n",
       "      <td>NaN</td>\n",
       "      <td>IR1</td>\n",
       "      <td>Lvl</td>\n",
       "      <td>AllPub</td>\n",
       "      <td>...</td>\n",
       "      <td>0</td>\n",
       "      <td>0</td>\n",
       "      <td>NaN</td>\n",
       "      <td>MnPrv</td>\n",
       "      <td>NaN</td>\n",
       "      <td>0</td>\n",
       "      <td>3</td>\n",
       "      <td>2010</td>\n",
       "      <td>WD</td>\n",
       "      <td>Normal</td>\n",
       "    </tr>\n",
       "  </tbody>\n",
       "</table>\n",
       "<p>3 rows × 80 columns</p>\n",
       "</div>"
      ],
      "text/plain": [
       "     Id  MSSubClass MSZoning  LotFrontage  LotArea Street Alley LotShape  \\\n",
       "0  1461          20       RH         80.0    11622   Pave   NaN      Reg   \n",
       "1  1462          20       RL         81.0    14267   Pave   NaN      IR1   \n",
       "2  1463          60       RL         74.0    13830   Pave   NaN      IR1   \n",
       "\n",
       "  LandContour Utilities      ...       ScreenPorch PoolArea PoolQC  Fence  \\\n",
       "0         Lvl    AllPub      ...               120        0    NaN  MnPrv   \n",
       "1         Lvl    AllPub      ...                 0        0    NaN    NaN   \n",
       "2         Lvl    AllPub      ...                 0        0    NaN  MnPrv   \n",
       "\n",
       "  MiscFeature MiscVal MoSold  YrSold  SaleType  SaleCondition  \n",
       "0         NaN       0      6    2010        WD         Normal  \n",
       "1        Gar2   12500      6    2010        WD         Normal  \n",
       "2         NaN       0      3    2010        WD         Normal  \n",
       "\n",
       "[3 rows x 80 columns]"
      ]
     },
     "execution_count": 457,
     "metadata": {},
     "output_type": "execute_result"
    }
   ],
   "source": [
    "testfile[:3]"
   ]
  },
  {
   "cell_type": "markdown",
   "metadata": {},
   "source": [
    "Now, let's clean and scale our variables. After that, we will look at our data through several lenses and then run a simple regression to see which variables seem to affect prices the most in our training file."
   ]
  },
  {
   "cell_type": "code",
   "execution_count": 458,
   "metadata": {},
   "outputs": [
    {
     "data": {
      "text/plain": [
       "<matplotlib.axes._subplots.AxesSubplot at 0x1a3d4277978>"
      ]
     },
     "execution_count": 458,
     "metadata": {},
     "output_type": "execute_result"
    },
    {
     "data": {
      "image/png": "[encoded data removed]",
      "text/plain": [
       "<matplotlib.figure.Figure at 0x1a3d4287470>"
      ]
     },
     "metadata": {},
     "output_type": "display_data"
    }
   ],
   "source": [
    "#First, before we set numbers for all our variables, lets look at how our numeric variables correlate with prices\n",
    "corrmat = trainfile.corr()\n",
    "plt.subplots(figsize=(12,9))\n",
    "sns.heatmap(corrmat, vmax=0.9, square=True)"
   ]
  },
  {
   "cell_type": "markdown",
   "metadata": {},
   "source": [
    "It appears off the bat that out of our numerical variables, Overall Quality has the highest correlation with price."
   ]
  },
  {
   "cell_type": "code",
   "execution_count": 459,
   "metadata": {},
   "outputs": [
    {
     "data": {
      "text/html": [
       "<div>\n",
       "<style>\n",
       "    .dataframe thead tr:only-child th {\n",
       "        text-align: right;\n",
       "    }\n",
       "\n",
       "    .dataframe thead th {\n",
       "        text-align: left;\n",
       "    }\n",
       "\n",
       "    .dataframe tbody tr th {\n",
       "        vertical-align: top;\n",
       "    }\n",
       "</style>\n",
       "<table border=\"1\" class=\"dataframe\">\n",
       "  <thead>\n",
       "    <tr style=\"text-align: right;\">\n",
       "      <th></th>\n",
       "      <th>Id</th>\n",
       "      <th>MSSubClass</th>\n",
       "      <th>LotFrontage</th>\n",
       "      <th>LotArea</th>\n",
       "      <th>OverallQual</th>\n",
       "      <th>OverallCond</th>\n",
       "      <th>YearBuilt</th>\n",
       "      <th>YearRemodAdd</th>\n",
       "      <th>MasVnrArea</th>\n",
       "      <th>BsmtFinSF1</th>\n",
       "      <th>...</th>\n",
       "      <th>SaleType_ConLw</th>\n",
       "      <th>SaleType_New</th>\n",
       "      <th>SaleType_Oth</th>\n",
       "      <th>SaleType_WD</th>\n",
       "      <th>SaleCondition_Abnorml</th>\n",
       "      <th>SaleCondition_AdjLand</th>\n",
       "      <th>SaleCondition_Alloca</th>\n",
       "      <th>SaleCondition_Family</th>\n",
       "      <th>SaleCondition_Normal</th>\n",
       "      <th>SaleCondition_Partial</th>\n",
       "    </tr>\n",
       "  </thead>\n",
       "  <tbody>\n",
       "    <tr>\n",
       "      <th>0</th>\n",
       "      <td>1</td>\n",
       "      <td>60</td>\n",
       "      <td>65.0</td>\n",
       "      <td>8450</td>\n",
       "      <td>7</td>\n",
       "      <td>5</td>\n",
       "      <td>2003</td>\n",
       "      <td>2003</td>\n",
       "      <td>196.0</td>\n",
       "      <td>706</td>\n",
       "      <td>...</td>\n",
       "      <td>0</td>\n",
       "      <td>0</td>\n",
       "      <td>0</td>\n",
       "      <td>1</td>\n",
       "      <td>0</td>\n",
       "      <td>0</td>\n",
       "      <td>0</td>\n",
       "      <td>0</td>\n",
       "      <td>1</td>\n",
       "      <td>0</td>\n",
       "    </tr>\n",
       "    <tr>\n",
       "      <th>1</th>\n",
       "      <td>2</td>\n",
       "      <td>20</td>\n",
       "      <td>80.0</td>\n",
       "      <td>9600</td>\n",
       "      <td>6</td>\n",
       "      <td>8</td>\n",
       "      <td>1976</td>\n",
       "      <td>1976</td>\n",
       "      <td>0.0</td>\n",
       "      <td>978</td>\n",
       "      <td>...</td>\n",
       "      <td>0</td>\n",
       "      <td>0</td>\n",
       "      <td>0</td>\n",
       "      <td>1</td>\n",
       "      <td>0</td>\n",
       "      <td>0</td>\n",
       "      <td>0</td>\n",
       "      <td>0</td>\n",
       "      <td>1</td>\n",
       "      <td>0</td>\n",
       "    </tr>\n",
       "    <tr>\n",
       "      <th>2</th>\n",
       "      <td>3</td>\n",
       "      <td>60</td>\n",
       "      <td>68.0</td>\n",
       "      <td>11250</td>\n",
       "      <td>7</td>\n",
       "      <td>5</td>\n",
       "      <td>2001</td>\n",
       "      <td>2002</td>\n",
       "      <td>162.0</td>\n",
       "      <td>486</td>\n",
       "      <td>...</td>\n",
       "      <td>0</td>\n",
       "      <td>0</td>\n",
       "      <td>0</td>\n",
       "      <td>1</td>\n",
       "      <td>0</td>\n",
       "      <td>0</td>\n",
       "      <td>0</td>\n",
       "      <td>0</td>\n",
       "      <td>1</td>\n",
       "      <td>0</td>\n",
       "    </tr>\n",
       "  </tbody>\n",
       "</table>\n",
       "<p>3 rows × 290 columns</p>\n",
       "</div>"
      ],
      "text/plain": [
       "   Id  MSSubClass  LotFrontage  LotArea  OverallQual  OverallCond  YearBuilt  \\\n",
       "0   1          60         65.0     8450            7            5       2003   \n",
       "1   2          20         80.0     9600            6            8       1976   \n",
       "2   3          60         68.0    11250            7            5       2001   \n",
       "\n",
       "   YearRemodAdd  MasVnrArea  BsmtFinSF1          ...            \\\n",
       "0          2003       196.0         706          ...             \n",
       "1          1976         0.0         978          ...             \n",
       "2          2002       162.0         486          ...             \n",
       "\n",
       "   SaleType_ConLw  SaleType_New  SaleType_Oth  SaleType_WD  \\\n",
       "0               0             0             0            1   \n",
       "1               0             0             0            1   \n",
       "2               0             0             0            1   \n",
       "\n",
       "   SaleCondition_Abnorml  SaleCondition_AdjLand  SaleCondition_Alloca  \\\n",
       "0                      0                      0                     0   \n",
       "1                      0                      0                     0   \n",
       "2                      0                      0                     0   \n",
       "\n",
       "   SaleCondition_Family  SaleCondition_Normal  SaleCondition_Partial  \n",
       "0                     0                     1                      0  \n",
       "1                     0                     1                      0  \n",
       "2                     0                     1                      0  \n",
       "\n",
       "[3 rows x 290 columns]"
      ]
     },
     "execution_count": 459,
     "metadata": {},
     "output_type": "execute_result"
    }
   ],
   "source": [
    "#Now before scaling, we have to give numerical values to our categorical variables, as well as all others\n",
    "#This file contains only ints, floats, and objects. Make dummy variables out of objects.\n",
    "\n",
    "trainfile = pd.get_dummies(trainfile)\n",
    "\n",
    "trainfile[:3]"
   ]
  },
  {
   "cell_type": "code",
   "execution_count": 460,
   "metadata": {},
   "outputs": [
    {
     "data": {
      "text/plain": [
       "count      1460.000000\n",
       "mean     180921.195890\n",
       "std       79442.502883\n",
       "min       34900.000000\n",
       "25%      129975.000000\n",
       "50%      163000.000000\n",
       "75%      214000.000000\n",
       "max      755000.000000\n",
       "Name: SalePrice, dtype: float64"
      ]
     },
     "execution_count": 460,
     "metadata": {},
     "output_type": "execute_result"
    }
   ],
   "source": [
    "#Let's describe our data from the training file\n",
    "\n",
    "trainfile['SalePrice'].describe()"
   ]
  },
  {
   "cell_type": "markdown",
   "metadata": {},
   "source": [
    "At least there don't seem to be any negative prices, and the max is believable. However, it turns out that there are missing values. Let's see where they are."
   ]
  },
  {
   "cell_type": "code",
   "execution_count": 461,
   "metadata": {},
   "outputs": [
    {
     "data": {
      "text/plain": [
       "\"\\ntrainfile_na = (trainfile.isnull().sum() / len(trainfile)) * 100\\ntrainfile_na = trainfile_na.drop(trainfile_na[trainfile_na == 0].index).sort_values(ascending=False)[:30]\\nmissing_data = pd.DataFrame({'Missing Ratio' :trainfile_na})\\nmissing_data.head(20)\\n\""
      ]
     },
     "execution_count": 461,
     "metadata": {},
     "output_type": "execute_result"
    }
   ],
   "source": [
    "\"\"\"\n",
    "trainfile_na = (trainfile.isnull().sum() / len(trainfile)) * 100\n",
    "trainfile_na = trainfile_na.drop(trainfile_na[trainfile_na == 0].index).sort_values(ascending=False)[:30]\n",
    "missing_data = pd.DataFrame({'Missing Ratio' :trainfile_na})\n",
    "missing_data.head(20)\n",
    "\"\"\""
   ]
  },
  {
   "cell_type": "code",
   "execution_count": 462,
   "metadata": {},
   "outputs": [
    {
     "name": "stdout",
     "output_type": "stream",
     "text": [
      "LotFrontage\n",
      "MasVnrArea\n",
      "GarageYrBlt\n"
     ]
    }
   ],
   "source": [
    "for col in trainfile:\n",
    "    if trainfile[col].isnull().values.any():\n",
    "        print(col)"
   ]
  },
  {
   "cell_type": "code",
   "execution_count": 463,
   "metadata": {},
   "outputs": [
    {
     "name": "stdout",
     "output_type": "stream",
     "text": [
      "259\n",
      "8\n",
      "81\n"
     ]
    }
   ],
   "source": [
    "#There are missing values in three columns shown above. How many?\n",
    "\n",
    "for col in trainfile:\n",
    "    if trainfile[col].isnull().values.any():\n",
    "        print(trainfile[col].isnull().values.sum())"
   ]
  },
  {
   "cell_type": "markdown",
   "metadata": {},
   "source": [
    "There are a total of 259 observations in LotFrontage without values. There are others, though fewer, in MasVnrArea and GarageYrBlt. In every case other than LotFrontage, well over 90% of potential values for each variable is present. Thus, as those missing values also  appear random, I feel confident that replacing them with their respective medians will not have a significant effect. It is most likely that the houses with the missing values reflect the median houses in the area, on average.\n",
    "\n",
    "With respect to LotFrontage, I replace missing values with the median value as well, for similar reasons.\n",
    "\n",
    "On Kaggle, there are a lot of kernels that consider NA as missing data in the case of PoolQC and other variables, where NA means \"none\" (no pools, etc.). I'm not convinced, however that NA should be treated as missing data, since knowing whether or not a house has a pool or whatever it is could potentially be important for our model."
   ]
  },
  {
   "cell_type": "code",
   "execution_count": 464,
   "metadata": {},
   "outputs": [
    {
     "data": {
      "text/html": [
       "<div>\n",
       "<style>\n",
       "    .dataframe thead tr:only-child th {\n",
       "        text-align: right;\n",
       "    }\n",
       "\n",
       "    .dataframe thead th {\n",
       "        text-align: left;\n",
       "    }\n",
       "\n",
       "    .dataframe tbody tr th {\n",
       "        vertical-align: top;\n",
       "    }\n",
       "</style>\n",
       "<table border=\"1\" class=\"dataframe\">\n",
       "  <thead>\n",
       "    <tr style=\"text-align: right;\">\n",
       "      <th></th>\n",
       "      <th>Id</th>\n",
       "      <th>MSSubClass</th>\n",
       "      <th>LotFrontage</th>\n",
       "      <th>LotArea</th>\n",
       "      <th>OverallQual</th>\n",
       "      <th>OverallCond</th>\n",
       "      <th>YearBuilt</th>\n",
       "      <th>YearRemodAdd</th>\n",
       "      <th>MasVnrArea</th>\n",
       "      <th>BsmtFinSF1</th>\n",
       "      <th>...</th>\n",
       "      <th>SaleType_ConLw</th>\n",
       "      <th>SaleType_New</th>\n",
       "      <th>SaleType_Oth</th>\n",
       "      <th>SaleType_WD</th>\n",
       "      <th>SaleCondition_Abnorml</th>\n",
       "      <th>SaleCondition_AdjLand</th>\n",
       "      <th>SaleCondition_Alloca</th>\n",
       "      <th>SaleCondition_Family</th>\n",
       "      <th>SaleCondition_Normal</th>\n",
       "      <th>SaleCondition_Partial</th>\n",
       "    </tr>\n",
       "  </thead>\n",
       "  <tbody>\n",
       "    <tr>\n",
       "      <th>0</th>\n",
       "      <td>1</td>\n",
       "      <td>60</td>\n",
       "      <td>65.0</td>\n",
       "      <td>8450</td>\n",
       "      <td>7</td>\n",
       "      <td>5</td>\n",
       "      <td>2003</td>\n",
       "      <td>2003</td>\n",
       "      <td>196.0</td>\n",
       "      <td>706</td>\n",
       "      <td>...</td>\n",
       "      <td>0</td>\n",
       "      <td>0</td>\n",
       "      <td>0</td>\n",
       "      <td>1</td>\n",
       "      <td>0</td>\n",
       "      <td>0</td>\n",
       "      <td>0</td>\n",
       "      <td>0</td>\n",
       "      <td>1</td>\n",
       "      <td>0</td>\n",
       "    </tr>\n",
       "    <tr>\n",
       "      <th>1</th>\n",
       "      <td>2</td>\n",
       "      <td>20</td>\n",
       "      <td>80.0</td>\n",
       "      <td>9600</td>\n",
       "      <td>6</td>\n",
       "      <td>8</td>\n",
       "      <td>1976</td>\n",
       "      <td>1976</td>\n",
       "      <td>0.0</td>\n",
       "      <td>978</td>\n",
       "      <td>...</td>\n",
       "      <td>0</td>\n",
       "      <td>0</td>\n",
       "      <td>0</td>\n",
       "      <td>1</td>\n",
       "      <td>0</td>\n",
       "      <td>0</td>\n",
       "      <td>0</td>\n",
       "      <td>0</td>\n",
       "      <td>1</td>\n",
       "      <td>0</td>\n",
       "    </tr>\n",
       "    <tr>\n",
       "      <th>2</th>\n",
       "      <td>3</td>\n",
       "      <td>60</td>\n",
       "      <td>68.0</td>\n",
       "      <td>11250</td>\n",
       "      <td>7</td>\n",
       "      <td>5</td>\n",
       "      <td>2001</td>\n",
       "      <td>2002</td>\n",
       "      <td>162.0</td>\n",
       "      <td>486</td>\n",
       "      <td>...</td>\n",
       "      <td>0</td>\n",
       "      <td>0</td>\n",
       "      <td>0</td>\n",
       "      <td>1</td>\n",
       "      <td>0</td>\n",
       "      <td>0</td>\n",
       "      <td>0</td>\n",
       "      <td>0</td>\n",
       "      <td>1</td>\n",
       "      <td>0</td>\n",
       "    </tr>\n",
       "  </tbody>\n",
       "</table>\n",
       "<p>3 rows × 290 columns</p>\n",
       "</div>"
      ],
      "text/plain": [
       "   Id  MSSubClass  LotFrontage  LotArea  OverallQual  OverallCond  YearBuilt  \\\n",
       "0   1          60         65.0     8450            7            5       2003   \n",
       "1   2          20         80.0     9600            6            8       1976   \n",
       "2   3          60         68.0    11250            7            5       2001   \n",
       "\n",
       "   YearRemodAdd  MasVnrArea  BsmtFinSF1          ...            \\\n",
       "0          2003       196.0         706          ...             \n",
       "1          1976         0.0         978          ...             \n",
       "2          2002       162.0         486          ...             \n",
       "\n",
       "   SaleType_ConLw  SaleType_New  SaleType_Oth  SaleType_WD  \\\n",
       "0               0             0             0            1   \n",
       "1               0             0             0            1   \n",
       "2               0             0             0            1   \n",
       "\n",
       "   SaleCondition_Abnorml  SaleCondition_AdjLand  SaleCondition_Alloca  \\\n",
       "0                      0                      0                     0   \n",
       "1                      0                      0                     0   \n",
       "2                      0                      0                     0   \n",
       "\n",
       "   SaleCondition_Family  SaleCondition_Normal  SaleCondition_Partial  \n",
       "0                     0                     1                      0  \n",
       "1                     0                     1                      0  \n",
       "2                     0                     1                      0  \n",
       "\n",
       "[3 rows x 290 columns]"
      ]
     },
     "execution_count": 464,
     "metadata": {},
     "output_type": "execute_result"
    }
   ],
   "source": [
    "for col in trainfile:\n",
    "    trainfile[col] = trainfile[col].fillna(trainfile[col].median())\n",
    "trainfile[:3]"
   ]
  },
  {
   "cell_type": "markdown",
   "metadata": {},
   "source": [
    "Let's create a new variable for total sq. footage, which Serigne notes is missing."
   ]
  },
  {
   "cell_type": "code",
   "execution_count": 465,
   "metadata": {
    "collapsed": true
   },
   "outputs": [],
   "source": [
    "trainfile['TotalSF'] = trainfile['TotalBsmtSF'] + trainfile['1stFlrSF'] + trainfile['2ndFlrSF']"
   ]
  },
  {
   "cell_type": "markdown",
   "metadata": {},
   "source": [
    "There are also outliers in the dataset. Let's take a look at a couple glaring outliers in GrLivArea."
   ]
  },
  {
   "cell_type": "code",
   "execution_count": 466,
   "metadata": {},
   "outputs": [
    {
     "data": {
      "image/png": "[encoded data removed]",
      "text/plain": [
       "<matplotlib.figure.Figure at 0x1a3d47440b8>"
      ]
     },
     "metadata": {},
     "output_type": "display_data"
    }
   ],
   "source": [
    "fig, ax = plt.subplots()\n",
    "ax.scatter(x = trainfile['GrLivArea'], y = trainfile['SalePrice'])\n",
    "plt.ylabel('SalePrice', fontsize=13)\n",
    "plt.xlabel('GrLivArea', fontsize=13)\n",
    "plt.show()"
   ]
  },
  {
   "cell_type": "markdown",
   "metadata": {},
   "source": [
    "Since there are only two outliers and they have huge GrLivAreas and extremely low prices, we can and should drop them. I conclude that we can drop them because two observations' absence shouldn't affect the dataset of more than 1400 hardly at all. Also, we should drop these outliers because they have huge aboveground living areas with respect to their low prices. No other houses are that cheap and still have as much living area above or below ground. Thus, it is quite likely that there is something wrong with these houses. Either they are registered with the wrong numbers for GrLivAreas, or there is something abnormal that makes these houses terrible places to live (they are haunted, or they have huge worms in their water, or something like that), or these two houses may be fake listings (a common occurance in Provo, for example). In any case, these two houses appear to be part of some other distribution. Thus, we drop them."
   ]
  },
  {
   "cell_type": "code",
   "execution_count": 467,
   "metadata": {},
   "outputs": [
    {
     "data": {
      "image/png": "[encoded data removed]",
      "text/plain": [
       "<matplotlib.figure.Figure at 0x1a3d46d5ba8>"
      ]
     },
     "metadata": {},
     "output_type": "display_data"
    }
   ],
   "source": [
    "#Delete outliers\n",
    "trainfile = trainfile.drop(trainfile[(trainfile['GrLivArea']>4000) & (trainfile['SalePrice']<300000)].index)\n",
    "\n",
    "#Check the graph one more time\n",
    "fig, ax = plt.subplots()\n",
    "ax.scatter(trainfile['GrLivArea'], trainfile['SalePrice'])\n",
    "plt.ylabel('SalePrice', fontsize=13)\n",
    "plt.xlabel('GrLivArea', fontsize=13)\n",
    "plt.show()"
   ]
  },
  {
   "cell_type": "markdown",
   "metadata": {},
   "source": [
    "That looks better. Now we scale variables."
   ]
  },
  {
   "cell_type": "code",
   "execution_count": 468,
   "metadata": {},
   "outputs": [
    {
     "data": {
      "text/plain": [
       "array([[-1.73031138,  0.07342554, -0.22132801, ...,  0.46586305,\n",
       "        -0.3035372 ,  0.01143614],\n",
       "       [-1.72793866, -0.87186754,  0.49176031, ...,  0.46586305,\n",
       "        -0.3035372 , -0.04283834],\n",
       "       [-1.72556594,  0.07342554, -0.07871034, ...,  0.46586305,\n",
       "        -0.3035372 ,  0.19235109],\n",
       "       ..., \n",
       "       [ 1.72674416,  0.30974881, -0.17378878, ...,  0.46586305,\n",
       "        -0.3035372 ,  1.20805931],\n",
       "       [ 1.72911688, -0.87186754, -0.07871034, ...,  0.46586305,\n",
       "        -0.3035372 , -0.51838621],\n",
       "       [ 1.7314896 , -0.87186754,  0.2540642 , ...,  0.46586305,\n",
       "        -0.3035372 , -0.05834534]])"
      ]
     },
     "execution_count": 468,
     "metadata": {},
     "output_type": "execute_result"
    }
   ],
   "source": [
    "#Scale variables\n",
    "\n",
    "scaler = StandardScaler()\n",
    "s_trainfile = scaler.fit_transform(trainfile)\n",
    "\n",
    "s_trainfile #I have checked and this array has near 0 mean and 1 std. dev. for every variable"
   ]
  },
  {
   "cell_type": "markdown",
   "metadata": {},
   "source": [
    "Let's clean the test file's variables too."
   ]
  },
  {
   "cell_type": "code",
   "execution_count": 469,
   "metadata": {},
   "outputs": [
    {
     "data": {
      "text/html": [
       "<div>\n",
       "<style>\n",
       "    .dataframe thead tr:only-child th {\n",
       "        text-align: right;\n",
       "    }\n",
       "\n",
       "    .dataframe thead th {\n",
       "        text-align: left;\n",
       "    }\n",
       "\n",
       "    .dataframe tbody tr th {\n",
       "        vertical-align: top;\n",
       "    }\n",
       "</style>\n",
       "<table border=\"1\" class=\"dataframe\">\n",
       "  <thead>\n",
       "    <tr style=\"text-align: right;\">\n",
       "      <th></th>\n",
       "      <th>Id</th>\n",
       "      <th>MSSubClass</th>\n",
       "      <th>LotFrontage</th>\n",
       "      <th>LotArea</th>\n",
       "      <th>OverallQual</th>\n",
       "      <th>OverallCond</th>\n",
       "      <th>YearBuilt</th>\n",
       "      <th>YearRemodAdd</th>\n",
       "      <th>MasVnrArea</th>\n",
       "      <th>BsmtFinSF1</th>\n",
       "      <th>...</th>\n",
       "      <th>SaleType_ConLw</th>\n",
       "      <th>SaleType_New</th>\n",
       "      <th>SaleType_Oth</th>\n",
       "      <th>SaleType_WD</th>\n",
       "      <th>SaleCondition_Abnorml</th>\n",
       "      <th>SaleCondition_AdjLand</th>\n",
       "      <th>SaleCondition_Alloca</th>\n",
       "      <th>SaleCondition_Family</th>\n",
       "      <th>SaleCondition_Normal</th>\n",
       "      <th>SaleCondition_Partial</th>\n",
       "    </tr>\n",
       "  </thead>\n",
       "  <tbody>\n",
       "    <tr>\n",
       "      <th>0</th>\n",
       "      <td>1461</td>\n",
       "      <td>20</td>\n",
       "      <td>80.0</td>\n",
       "      <td>11622</td>\n",
       "      <td>5</td>\n",
       "      <td>6</td>\n",
       "      <td>1961</td>\n",
       "      <td>1961</td>\n",
       "      <td>0.0</td>\n",
       "      <td>468.0</td>\n",
       "      <td>...</td>\n",
       "      <td>0</td>\n",
       "      <td>0</td>\n",
       "      <td>0</td>\n",
       "      <td>1</td>\n",
       "      <td>0</td>\n",
       "      <td>0</td>\n",
       "      <td>0</td>\n",
       "      <td>0</td>\n",
       "      <td>1</td>\n",
       "      <td>0</td>\n",
       "    </tr>\n",
       "    <tr>\n",
       "      <th>1</th>\n",
       "      <td>1462</td>\n",
       "      <td>20</td>\n",
       "      <td>81.0</td>\n",
       "      <td>14267</td>\n",
       "      <td>6</td>\n",
       "      <td>6</td>\n",
       "      <td>1958</td>\n",
       "      <td>1958</td>\n",
       "      <td>108.0</td>\n",
       "      <td>923.0</td>\n",
       "      <td>...</td>\n",
       "      <td>0</td>\n",
       "      <td>0</td>\n",
       "      <td>0</td>\n",
       "      <td>1</td>\n",
       "      <td>0</td>\n",
       "      <td>0</td>\n",
       "      <td>0</td>\n",
       "      <td>0</td>\n",
       "      <td>1</td>\n",
       "      <td>0</td>\n",
       "    </tr>\n",
       "    <tr>\n",
       "      <th>2</th>\n",
       "      <td>1463</td>\n",
       "      <td>60</td>\n",
       "      <td>74.0</td>\n",
       "      <td>13830</td>\n",
       "      <td>5</td>\n",
       "      <td>5</td>\n",
       "      <td>1997</td>\n",
       "      <td>1998</td>\n",
       "      <td>0.0</td>\n",
       "      <td>791.0</td>\n",
       "      <td>...</td>\n",
       "      <td>0</td>\n",
       "      <td>0</td>\n",
       "      <td>0</td>\n",
       "      <td>1</td>\n",
       "      <td>0</td>\n",
       "      <td>0</td>\n",
       "      <td>0</td>\n",
       "      <td>0</td>\n",
       "      <td>1</td>\n",
       "      <td>0</td>\n",
       "    </tr>\n",
       "  </tbody>\n",
       "</table>\n",
       "<p>3 rows × 271 columns</p>\n",
       "</div>"
      ],
      "text/plain": [
       "     Id  MSSubClass  LotFrontage  LotArea  OverallQual  OverallCond  \\\n",
       "0  1461          20         80.0    11622            5            6   \n",
       "1  1462          20         81.0    14267            6            6   \n",
       "2  1463          60         74.0    13830            5            5   \n",
       "\n",
       "   YearBuilt  YearRemodAdd  MasVnrArea  BsmtFinSF1          ...            \\\n",
       "0       1961          1961         0.0       468.0          ...             \n",
       "1       1958          1958       108.0       923.0          ...             \n",
       "2       1997          1998         0.0       791.0          ...             \n",
       "\n",
       "   SaleType_ConLw  SaleType_New  SaleType_Oth  SaleType_WD  \\\n",
       "0               0             0             0            1   \n",
       "1               0             0             0            1   \n",
       "2               0             0             0            1   \n",
       "\n",
       "   SaleCondition_Abnorml  SaleCondition_AdjLand  SaleCondition_Alloca  \\\n",
       "0                      0                      0                     0   \n",
       "1                      0                      0                     0   \n",
       "2                      0                      0                     0   \n",
       "\n",
       "   SaleCondition_Family  SaleCondition_Normal  SaleCondition_Partial  \n",
       "0                     0                     1                      0  \n",
       "1                     0                     1                      0  \n",
       "2                     0                     1                      0  \n",
       "\n",
       "[3 rows x 271 columns]"
      ]
     },
     "execution_count": 469,
     "metadata": {},
     "output_type": "execute_result"
    }
   ],
   "source": [
    "testfile = pd.get_dummies(testfile)\n",
    "\n",
    "testfile[:3]"
   ]
  },
  {
   "cell_type": "code",
   "execution_count": 470,
   "metadata": {},
   "outputs": [
    {
     "name": "stdout",
     "output_type": "stream",
     "text": [
      "LotFrontage\n",
      "MasVnrArea\n",
      "BsmtFinSF1\n",
      "BsmtFinSF2\n",
      "BsmtUnfSF\n",
      "TotalBsmtSF\n",
      "BsmtFullBath\n",
      "BsmtHalfBath\n",
      "GarageYrBlt\n",
      "GarageCars\n",
      "GarageArea\n"
     ]
    }
   ],
   "source": [
    "#Are there any missing values?\n",
    "\n",
    "for col in testfile:\n",
    "    if testfile[col].isnull().values.any():\n",
    "        print(col)"
   ]
  },
  {
   "cell_type": "code",
   "execution_count": 471,
   "metadata": {},
   "outputs": [
    {
     "name": "stdout",
     "output_type": "stream",
     "text": [
      "227\n",
      "15\n",
      "1\n",
      "1\n",
      "1\n",
      "1\n",
      "2\n",
      "2\n",
      "78\n",
      "1\n",
      "1\n"
     ]
    }
   ],
   "source": [
    "#There are missing values in the columns shown above. How many?\n",
    "\n",
    "for col in testfile:\n",
    "    if testfile[col].isnull().values.any():\n",
    "        print(testfile[col].isnull().values.sum())"
   ]
  },
  {
   "cell_type": "code",
   "execution_count": 472,
   "metadata": {},
   "outputs": [
    {
     "data": {
      "text/html": [
       "<div>\n",
       "<style>\n",
       "    .dataframe thead tr:only-child th {\n",
       "        text-align: right;\n",
       "    }\n",
       "\n",
       "    .dataframe thead th {\n",
       "        text-align: left;\n",
       "    }\n",
       "\n",
       "    .dataframe tbody tr th {\n",
       "        vertical-align: top;\n",
       "    }\n",
       "</style>\n",
       "<table border=\"1\" class=\"dataframe\">\n",
       "  <thead>\n",
       "    <tr style=\"text-align: right;\">\n",
       "      <th></th>\n",
       "      <th>Id</th>\n",
       "      <th>MSSubClass</th>\n",
       "      <th>LotFrontage</th>\n",
       "      <th>LotArea</th>\n",
       "      <th>OverallQual</th>\n",
       "      <th>OverallCond</th>\n",
       "      <th>YearBuilt</th>\n",
       "      <th>YearRemodAdd</th>\n",
       "      <th>MasVnrArea</th>\n",
       "      <th>BsmtFinSF1</th>\n",
       "      <th>...</th>\n",
       "      <th>SaleType_ConLw</th>\n",
       "      <th>SaleType_New</th>\n",
       "      <th>SaleType_Oth</th>\n",
       "      <th>SaleType_WD</th>\n",
       "      <th>SaleCondition_Abnorml</th>\n",
       "      <th>SaleCondition_AdjLand</th>\n",
       "      <th>SaleCondition_Alloca</th>\n",
       "      <th>SaleCondition_Family</th>\n",
       "      <th>SaleCondition_Normal</th>\n",
       "      <th>SaleCondition_Partial</th>\n",
       "    </tr>\n",
       "  </thead>\n",
       "  <tbody>\n",
       "    <tr>\n",
       "      <th>0</th>\n",
       "      <td>1461</td>\n",
       "      <td>20</td>\n",
       "      <td>80.0</td>\n",
       "      <td>11622</td>\n",
       "      <td>5</td>\n",
       "      <td>6</td>\n",
       "      <td>1961</td>\n",
       "      <td>1961</td>\n",
       "      <td>0.0</td>\n",
       "      <td>468.0</td>\n",
       "      <td>...</td>\n",
       "      <td>0</td>\n",
       "      <td>0</td>\n",
       "      <td>0</td>\n",
       "      <td>1</td>\n",
       "      <td>0</td>\n",
       "      <td>0</td>\n",
       "      <td>0</td>\n",
       "      <td>0</td>\n",
       "      <td>1</td>\n",
       "      <td>0</td>\n",
       "    </tr>\n",
       "    <tr>\n",
       "      <th>1</th>\n",
       "      <td>1462</td>\n",
       "      <td>20</td>\n",
       "      <td>81.0</td>\n",
       "      <td>14267</td>\n",
       "      <td>6</td>\n",
       "      <td>6</td>\n",
       "      <td>1958</td>\n",
       "      <td>1958</td>\n",
       "      <td>108.0</td>\n",
       "      <td>923.0</td>\n",
       "      <td>...</td>\n",
       "      <td>0</td>\n",
       "      <td>0</td>\n",
       "      <td>0</td>\n",
       "      <td>1</td>\n",
       "      <td>0</td>\n",
       "      <td>0</td>\n",
       "      <td>0</td>\n",
       "      <td>0</td>\n",
       "      <td>1</td>\n",
       "      <td>0</td>\n",
       "    </tr>\n",
       "    <tr>\n",
       "      <th>2</th>\n",
       "      <td>1463</td>\n",
       "      <td>60</td>\n",
       "      <td>74.0</td>\n",
       "      <td>13830</td>\n",
       "      <td>5</td>\n",
       "      <td>5</td>\n",
       "      <td>1997</td>\n",
       "      <td>1998</td>\n",
       "      <td>0.0</td>\n",
       "      <td>791.0</td>\n",
       "      <td>...</td>\n",
       "      <td>0</td>\n",
       "      <td>0</td>\n",
       "      <td>0</td>\n",
       "      <td>1</td>\n",
       "      <td>0</td>\n",
       "      <td>0</td>\n",
       "      <td>0</td>\n",
       "      <td>0</td>\n",
       "      <td>1</td>\n",
       "      <td>0</td>\n",
       "    </tr>\n",
       "  </tbody>\n",
       "</table>\n",
       "<p>3 rows × 271 columns</p>\n",
       "</div>"
      ],
      "text/plain": [
       "     Id  MSSubClass  LotFrontage  LotArea  OverallQual  OverallCond  \\\n",
       "0  1461          20         80.0    11622            5            6   \n",
       "1  1462          20         81.0    14267            6            6   \n",
       "2  1463          60         74.0    13830            5            5   \n",
       "\n",
       "   YearBuilt  YearRemodAdd  MasVnrArea  BsmtFinSF1          ...            \\\n",
       "0       1961          1961         0.0       468.0          ...             \n",
       "1       1958          1958       108.0       923.0          ...             \n",
       "2       1997          1998         0.0       791.0          ...             \n",
       "\n",
       "   SaleType_ConLw  SaleType_New  SaleType_Oth  SaleType_WD  \\\n",
       "0               0             0             0            1   \n",
       "1               0             0             0            1   \n",
       "2               0             0             0            1   \n",
       "\n",
       "   SaleCondition_Abnorml  SaleCondition_AdjLand  SaleCondition_Alloca  \\\n",
       "0                      0                      0                     0   \n",
       "1                      0                      0                     0   \n",
       "2                      0                      0                     0   \n",
       "\n",
       "   SaleCondition_Family  SaleCondition_Normal  SaleCondition_Partial  \n",
       "0                     0                     1                      0  \n",
       "1                     0                     1                      0  \n",
       "2                     0                     1                      0  \n",
       "\n",
       "[3 rows x 271 columns]"
      ]
     },
     "execution_count": 472,
     "metadata": {},
     "output_type": "execute_result"
    }
   ],
   "source": [
    "#Again, less than 10% of each column except LotFrontage is missing. Let's replace the missing values with their variables' medians as we did above.\n",
    "\n",
    "for col in testfile:\n",
    "    testfile[col] = testfile[col].fillna(testfile[col].median())\n",
    "testfile[:3]"
   ]
  },
  {
   "cell_type": "code",
   "execution_count": 473,
   "metadata": {
    "collapsed": true
   },
   "outputs": [],
   "source": [
    "#Create total sq footage variable\n",
    "testfile['TotalSF'] = testfile['TotalBsmtSF'] + testfile['1stFlrSF'] + testfile['2ndFlrSF']"
   ]
  },
  {
   "cell_type": "code",
   "execution_count": 474,
   "metadata": {},
   "outputs": [
    {
     "data": {
      "text/plain": [
       "array([[-1.73086406, -0.87471081,  0.56732969, ...,  0.46021084,\n",
       "        -0.29936452, -0.95407224],\n",
       "       [-1.72848977, -0.87471081,  0.61596272, ...,  0.46021084,\n",
       "        -0.29936452,  0.16450669],\n",
       "       [-1.72611547,  0.06135085,  0.27553157, ...,  0.46021084,\n",
       "        -0.29936452,  0.03612434],\n",
       "       ..., \n",
       "       [ 1.72611547, -0.87471081,  4.45797141, ..., -2.17291708,\n",
       "        -0.29936452, -0.10242692],\n",
       "       [ 1.72848977,  0.64638939, -0.30806469, ...,  0.46021084,\n",
       "        -0.29936452, -0.82187655],\n",
       "       [ 1.73086406,  0.06135085,  0.27553157, ...,  0.46021084,\n",
       "        -0.29936452,  0.59414269]])"
      ]
     },
     "execution_count": 474,
     "metadata": {},
     "output_type": "execute_result"
    }
   ],
   "source": [
    "#Scale testfile's variables\n",
    "\n",
    "scaler = StandardScaler()\n",
    "s_testfile = scaler.fit_transform(testfile)\n",
    "\n",
    "s_testfile"
   ]
  },
  {
   "cell_type": "markdown",
   "metadata": {},
   "source": [
    "Now let's do some data visualization.\n",
    "\n",
    "First, let's check out our training data's price distribution."
   ]
  },
  {
   "cell_type": "code",
   "execution_count": 475,
   "metadata": {},
   "outputs": [
    {
     "data": {
      "text/plain": [
       "<matplotlib.text.Text at 0x1a3d487e320>"
      ]
     },
     "execution_count": 475,
     "metadata": {},
     "output_type": "execute_result"
    },
    {
     "data": {
      "image/png": "[encoded data removed]",
      "text/plain": [
       "<matplotlib.figure.Figure at 0x1a3d4810e10>"
      ]
     },
     "metadata": {},
     "output_type": "display_data"
    }
   ],
   "source": [
    "sns.distplot(trainfile['SalePrice'] , fit=norm);\n",
    "\n",
    "#Get mean and std. dev.\n",
    "(mu, sigma) = norm.fit(trainfile['SalePrice'])\n",
    "\n",
    "plt.legend(['Normal dist. ($\\mu=$ {:.2f} and $\\sigma=$ {:.2f} )'.format(mu, sigma)],\n",
    "            loc='best')\n",
    "plt.ylabel('Frequency')\n",
    "plt.title('SalePrice distribution')"
   ]
  },
  {
   "cell_type": "markdown",
   "metadata": {},
   "source": [
    "Notice that this distribution is skewed. Let's try to normalize SalePrice so that regressions work better."
   ]
  },
  {
   "cell_type": "code",
   "execution_count": 476,
   "metadata": {},
   "outputs": [
    {
     "data": {
      "text/plain": [
       "<matplotlib.text.Text at 0x1a3d5b54a90>"
      ]
     },
     "execution_count": 476,
     "metadata": {},
     "output_type": "execute_result"
    },
    {
     "data": {
      "image/png": "[encoded data removed]",
      "text/plain": [
       "<matplotlib.figure.Figure at 0x1a3d483f7b8>"
      ]
     },
     "metadata": {},
     "output_type": "display_data"
    }
   ],
   "source": [
    "#log1p applies log(1+x) to all elements of the column\n",
    "trainfile[\"SalePrice\"] = np.log1p(trainfile[\"SalePrice\"])\n",
    "\n",
    "#Check the new distribution \n",
    "sns.distplot(trainfile['SalePrice'] , fit=norm);\n",
    "\n",
    "(mu, sigma) = norm.fit(trainfile['SalePrice'])\n",
    "\n",
    "#Now plot the distribution\n",
    "plt.legend(['Normal dist. ($\\mu=$ {:.2f} and $\\sigma=$ {:.2f} )'.format(mu, sigma)],\n",
    "            loc='best')\n",
    "plt.ylabel('Frequency')\n",
    "plt.title('SalePrice distribution')"
   ]
  },
  {
   "cell_type": "markdown",
   "metadata": {},
   "source": [
    "Now it looks pretty normally distributed!"
   ]
  },
  {
   "cell_type": "markdown",
   "metadata": {},
   "source": [
    "It looks like our training dataset came up with more dummies than our testing dataset. Let's look at what those extra dummies are to see if we can get rid of them."
   ]
  },
  {
   "cell_type": "code",
   "execution_count": 477,
   "metadata": {},
   "outputs": [
    {
     "name": "stdout",
     "output_type": "stream",
     "text": [
      "SalePrice\n",
      "Utilities_NoSeWa\n",
      "Condition2_RRAe\n",
      "Condition2_RRAn\n",
      "Condition2_RRNn\n",
      "HouseStyle_2.5Fin\n",
      "RoofMatl_ClyTile\n",
      "RoofMatl_Membran\n",
      "RoofMatl_Metal\n",
      "RoofMatl_Roll\n",
      "Exterior1st_ImStucc\n",
      "Exterior1st_Stone\n",
      "Exterior2nd_Other\n",
      "Heating_Floor\n",
      "Heating_OthW\n",
      "Electrical_Mix\n",
      "GarageQual_Ex\n",
      "PoolQC_Fa\n",
      "MiscFeature_TenC\n",
      "testfile\n"
     ]
    }
   ],
   "source": [
    "for col in trainfile:\n",
    "    if col not in testfile:\n",
    "        print(col)\n",
    "\n",
    "print(\"testfile\")\n",
    "for col in testfile:\n",
    "    if col not in trainfile:\n",
    "        print(col)"
   ]
  },
  {
   "cell_type": "markdown",
   "metadata": {},
   "source": [
    "I conclude that these variables can be deleted for two reasons. First, we don't have them in the test file, so they'll be useless. Second, the regression that follows doesn't indicate that any of these variables are extremely important."
   ]
  },
  {
   "cell_type": "code",
   "execution_count": 478,
   "metadata": {},
   "outputs": [
    {
     "name": "stdout",
     "output_type": "stream",
     "text": [
      "SalePrice\n"
     ]
    }
   ],
   "source": [
    "to_delete = []\n",
    "for col in trainfile:\n",
    "    if col not in testfile and col != \"SalePrice\":\n",
    "        to_delete.append(col)\n",
    "\n",
    "for col in to_delete:\n",
    "    del trainfile[col]\n",
    "\n",
    "for col in trainfile:\n",
    "    if col not in testfile:\n",
    "        print(col)"
   ]
  },
  {
   "cell_type": "markdown",
   "metadata": {},
   "source": [
    "Returning to our training dataset, let's run a regression to see what the coefficients that determine prices look like."
   ]
  },
  {
   "cell_type": "code",
   "execution_count": 479,
   "metadata": {},
   "outputs": [
    {
     "data": {
      "text/plain": [
       "[('Exterior1st_AsphShn', 0.0),\n",
       " ('Condition2_Norm', -0.017657470872838994),\n",
       " ('Exterior1st_WdShing', 0.04934524319765133),\n",
       " ('MSZoning_FV', -0.077388777974669282),\n",
       " ('MasVnrType_Stone', -0.082074669733131711),\n",
       " ('HouseStyle_1Story', -0.086678841798680184),\n",
       " ('BldgType_1Fam', -0.086795258136609543),\n",
       " ('ExterQual_Fa', 0.090064652029277659),\n",
       " ('Condition1_RRNe', -0.095519551376294629),\n",
       " ('BsmtExposure_Mn', 0.098733133895951369),\n",
       " ('Electrical_FuseP', 0.14329784661191294),\n",
       " ('Neighborhood_Timber', -0.14488909339451186),\n",
       " ('Neighborhood_StoneBr', -0.15501710199674978),\n",
       " ('SalePrice', -0.15993480591540543),\n",
       " ('RoofStyle_Flat', -0.16313358020444479),\n",
       " ('Neighborhood_IDOTRR', -0.18199298745339954),\n",
       " ('Foundation_CBlock', 0.19911933946712396),\n",
       " ('BsmtFinType1_GLQ', 0.20466879893188783),\n",
       " ('Electrical_FuseF', 0.21737094071962018),\n",
       " ('Exterior1st_HdBoard', -0.22414240263453344),\n",
       " ('MoSold', 0.23655918869859641),\n",
       " ('Condition1_RRAn', 0.24941325596829719),\n",
       " ('HeatingQC_Gd', -0.25494737122413935),\n",
       " ('SaleType_COD', 0.2554404728149926),\n",
       " ('LotArea', -0.26010524621541842),\n",
       " ('FireplaceQu_TA', -0.26974429113094983),\n",
       " ('LotShape_IR3', 0.29124222828157675),\n",
       " ('KitchenQual_Gd', 0.2920820441652151),\n",
       " ('TotalBsmtSF', 0.2961061755703942),\n",
       " ('SaleCondition_Normal', 0.32717466916885385),\n",
       " ('SaleType_ConLw', -0.32922820805978903),\n",
       " ('SaleType_Oth', -0.34899180123983142),\n",
       " ('BsmtExposure_No', -0.37518402664941181),\n",
       " ('Neighborhood_Gilbert', -0.38511722368498108),\n",
       " ('Fireplaces', -0.39201685528505381),\n",
       " ('SaleType_Con', 0.39391732453674139),\n",
       " ('BsmtCond_Po', 0.40818219024238933),\n",
       " ('Functional_Min1', 0.41591308143527961),\n",
       " ('LowQualFinSF', -0.46051234385760942),\n",
       " ('BsmtFinType2_LwQ', -0.46694353796651544),\n",
       " ('HouseStyle_SFoyer', -0.4731356941694192),\n",
       " ('Alley_Pave', 0.48403118525563354),\n",
       " ('Exterior1st_Plywood', 0.50040422200596268),\n",
       " ('Exterior1st_Wd Sdng', -0.50245953291076673),\n",
       " ('Neighborhood_NridgHt', -0.50472359700981884),\n",
       " ('HeatingQC_TA', -0.50989778583559831),\n",
       " ('ExterCond_Ex', 0.51362174744851463),\n",
       " ('SaleCondition_Abnorml', 0.52521045727741666),\n",
       " ('ExterQual_TA', -0.5338472111327105),\n",
       " ('1stFlrSF', 0.54318859025227151),\n",
       " ('BldgType_Duplex', -0.54370837019478502),\n",
       " ('PoolArea', -0.55681976831402002),\n",
       " ('SaleType_CWD', -0.55716905657211591),\n",
       " ('Neighborhood_Blueste', -0.58636898303915641),\n",
       " ('BsmtUnfSF', -0.6005771302588635),\n",
       " ('BsmtFinType1_ALQ', -0.61843257665685047),\n",
       " ('SaleType_WD', -0.62332959351870376),\n",
       " ('MiscFeature_Shed', -0.62730741617167196),\n",
       " ('LandContour_Low', 0.63454994066533099),\n",
       " ('Exterior1st_CemntBd', -0.64704839348243381),\n",
       " ('BsmtFinType1_Unf', -0.64915323630194199),\n",
       " ('Condition2_Artery', -0.65721620010826098),\n",
       " ('Neighborhood_Mitchel', 0.66103942400036597),\n",
       " ('KitchenQual_Fa', -0.69395529661707611),\n",
       " ('FireplaceQu_Fa', -0.70537671596804419),\n",
       " ('LandContour_Lvl', 0.72103690016218147),\n",
       " ('Condition1_Artery', 0.72617019893270129),\n",
       " ('LandContour_HLS', -0.72658931483311129),\n",
       " ('BsmtQual_Fa', 0.7652817869153985),\n",
       " ('BsmtFinType2_Rec', 0.78854862591310471),\n",
       " ('GarageCond_Gd', 0.81541559635291438),\n",
       " ('BsmtFinSF1', -0.81730217846151754),\n",
       " ('2ndFlrSF', 0.81788851471151813),\n",
       " ('GarageFinish_Unf', 0.82522700584340136),\n",
       " ('Neighborhood_MeadowV', 0.88140322155089112),\n",
       " ('Neighborhood_BrDale', -0.89003209152251983),\n",
       " ('Condition1_RRAe', -0.89341191098444916),\n",
       " ('LotShape_Reg', -0.89872644651079159),\n",
       " ('Exterior2nd_CmentBd', 0.89946285965576267),\n",
       " ('GarageCond_Fa', -0.90443957406935749),\n",
       " ('Fence_MnWw', -0.91286280329953073),\n",
       " ('LandContour_Bnk', -0.91572169109728629),\n",
       " ('HouseStyle_2.5Unf', -0.92243195238377662),\n",
       " ('GarageQual_Gd', -0.93375122519069376),\n",
       " ('HalfBath', -0.94149116143778511),\n",
       " ('Neighborhood_Crawfor', -0.9501384515960436),\n",
       " ('Exterior1st_CBlock', 0.95402625966464227),\n",
       " ('OverallQual', -0.96479428095349073),\n",
       " ('PavedDrive_N', 0.97292603436747627),\n",
       " ('Exterior2nd_BrkFace', 0.99286851697013667),\n",
       " ('BsmtFinType1_BLQ', -1.0155231697843043),\n",
       " ('LotConfig_FR3', -1.0270337736723683),\n",
       " ('3SsnPorch', -1.0407220419737024),\n",
       " ('Exterior2nd_ImStucc', 1.0467120065257061),\n",
       " ('Exterior2nd_Wd Shng', -1.0487246898233062),\n",
       " ('GrLivArea', 1.0549947653680061),\n",
       " ('GarageFinish_RFn', -1.0599371716249011),\n",
       " ('Neighborhood_SawyerW', 1.0838034369785929),\n",
       " ('RoofStyle_Shed', 1.0877992219387806),\n",
       " ('RoofStyle_Gable', 1.1011811975066994),\n",
       " ('Neighborhood_Blmngtn', 1.1213284454268422),\n",
       " ('Exterior2nd_AsphShn', 1.1347344586399937),\n",
       " ('Neighborhood_OldTown', 1.1485895356258653),\n",
       " ('Condition1_Norm', -1.1525129894112744),\n",
       " ('Exterior1st_MetalSd', 1.173353392462716),\n",
       " ('MasVnrType_BrkFace', 1.1897541777981675),\n",
       " ('SaleCondition_AdjLand', 1.2221682943952092),\n",
       " ('Alley_Grvl', -1.2414653774478472),\n",
       " ('LotConfig_Inside', 1.2424532446278649),\n",
       " ('Electrical_SBrkr', 1.2443628427120765),\n",
       " ('Functional_Mod', -1.2754272000377154),\n",
       " ('Functional_Sev', 1.2754272000377247),\n",
       " ('Fence_GdWo', -1.3090072101743511),\n",
       " ('MSZoning_C (all)', -1.3447764809585669),\n",
       " ('SaleCondition_Alloca', -1.3478782750752412),\n",
       " ('GarageCars', 1.3500062891331459),\n",
       " ('Neighborhood_BrkSide', -1.3745604920262384),\n",
       " ('Neighborhood_NoRidge', -1.3798431812614673),\n",
       " ('RoofMatl_Tar&Grv', -1.3831571541453156),\n",
       " ('OverallCond', 1.3995982044610935),\n",
       " ('ExterQual_Ex', -1.4046234785771159),\n",
       " ('LandSlope_Mod', 1.4193510229054305),\n",
       " ('LotConfig_CulDSac', 1.4428980736282837),\n",
       " ('Exterior2nd_VinylSd', 1.4541504165791428),\n",
       " ('GarageCond_Ex', -1.4602602806302232),\n",
       " ('LotShape_IR1', 1.5157037699399531),\n",
       " ('Condition1_RRNn', -1.5185081612995508),\n",
       " ('Street_Grvl', 1.5301336869082989),\n",
       " ('Street_Pave', -1.5301336869083029),\n",
       " ('BsmtFinType1_Rec', -1.5546584728746302),\n",
       " ('Foundation_Slab', 1.5609297185244804),\n",
       " ('Neighborhood_Sawyer', -1.624307035516678),\n",
       " ('BldgType_TwnhsE', 1.6772042235499449),\n",
       " ('Exterior2nd_CBlock', -1.712701333838115),\n",
       " ('GarageArea', 1.7691694197997268),\n",
       " ('BsmtFinType2_BLQ', 1.7839000852063518),\n",
       " ('HeatingQC_Ex', -1.8205609737478441),\n",
       " ('GarageType_BuiltIn', 1.8281207656259197),\n",
       " ('LotShape_IR2', -1.8352153403026101),\n",
       " ('BsmtFinType1_LwQ', 1.8537764388160747),\n",
       " ('SaleType_New', 1.8738446412935474),\n",
       " ('RoofStyle_Gambrel', -1.8815516605497917),\n",
       " ('Exterior1st_BrkComm', -1.8853863748361464),\n",
       " ('SaleType_ConLI', -1.9456691101916288),\n",
       " ('Condition1_PosN', 1.9710254550915969),\n",
       " ('Neighborhood_Edwards', 1.9730849295729707),\n",
       " ('GarageType_Basment', -2.0222313725057668),\n",
       " ('GarageQual_Po', -2.0463040054860282),\n",
       " ('LandSlope_Sev', -2.058296495038952),\n",
       " ('Neighborhood_CollgCr', 2.0786427775226013),\n",
       " ('Neighborhood_NWAmes', -2.0855445121469613),\n",
       " ('Foundation_BrkTil', 2.1040760347637577),\n",
       " ('GarageQual_TA', 2.1412666418688691),\n",
       " ('RoofMatl_WdShngl', -2.1793825944977723),\n",
       " ('PavedDrive_Y', 2.1884136001618013),\n",
       " ('GarageQual_Fa', 2.2050889209114146),\n",
       " ('YrSold', 2.2095457323124275),\n",
       " ('BsmtQual_Gd', -2.2192087446454192),\n",
       " ('KitchenQual_Ex', -2.2233508689851234),\n",
       " ('HeatingQC_Po', -2.2662561543114217),\n",
       " ('Neighborhood_Somerst', -2.3006528969980113),\n",
       " ('BsmtQual_Ex', -2.3406406205681076),\n",
       " ('ExterQual_Gd', 2.357096209085809),\n",
       " ('Foundation_PConc', -2.3819580283789081),\n",
       " ('WoodDeckSF', -2.3966643026531855),\n",
       " ('HeatingQC_Fa', -2.3990418866062879),\n",
       " ('Fence_MnPrv', -2.4597690538710442),\n",
       " ('RoofStyle_Hip', -2.4676772295024958),\n",
       " ('RoofMatl_CompShg', 2.4796427901497027),\n",
       " ('TotRmsAbvGrd', 2.5236277372555596),\n",
       " ('BsmtQual_TA', -2.5299639744454288),\n",
       " ('BsmtCond_Fa', 2.5503836131600219),\n",
       " ('Heating_Wall', -2.5555145203263074),\n",
       " ('Heating_GasA', 2.5631916917196342),\n",
       " ('Condition2_Feedr', -2.5881905965538174),\n",
       " ('Foundation_Wood', -2.6565210499070244),\n",
       " ('OpenPorchSF', 2.66522647555071),\n",
       " ('YearBuilt', -2.6899969006693651),\n",
       " ('Exterior1st_VinylSd', 2.7129259467378941),\n",
       " ('BsmtCond_TA', -2.7666012663288431),\n",
       " ('SaleType_ConLD', 2.7861730201290276),\n",
       " ('BldgType_Twnhs', 2.7874626875011272),\n",
       " ('BsmtFinType2_GLQ', -2.822340247603468),\n",
       " ('BsmtCond_Gd', 2.9402000589742641),\n",
       " ('HouseStyle_1.5Unf', 2.941504930887151),\n",
       " ('KitchenQual_TA', 2.9533545147283444),\n",
       " ('Exterior1st_Stucco', -2.95375324824129),\n",
       " ('Functional_Maj1', -2.9573200384038305),\n",
       " ('ExterCond_Fa', -2.9955726631123292),\n",
       " ('Neighborhood_ClearCr', -3.0059862764520466),\n",
       " ('CentralAir_N', -3.0360081736810356),\n",
       " ('Neighborhood_NAmes', -3.0950341993074106),\n",
       " ('MasVnrArea', 3.1167555403266709),\n",
       " ('FullBath', -3.1439861086788934),\n",
       " ('Exterior2nd_Stone', -3.2010416831658537),\n",
       " ('BsmtFinType2_Unf', 3.2300521164588973),\n",
       " ('MSSubClass', -3.2627037383383182),\n",
       " ('Heating_GasW', -3.279581475998314),\n",
       " ('GarageType_Attchd', 3.2930632275278331),\n",
       " ('GarageFinish_Fin', -3.3077812779987226),\n",
       " ('GarageType_2Types', -3.3214915603791879),\n",
       " ('RoofMatl_WdShake', -3.3485405235838717),\n",
       " ('GarageYrBlt', -3.3496589270066015),\n",
       " ('Condition2_PosN', 3.4609918686575472),\n",
       " ('Condition2_PosA', -3.4636988670104967),\n",
       " ('KitchenAbvGr', -3.4664171874414018),\n",
       " ('BsmtFullBath', -3.47909257872884),\n",
       " ('FireplaceQu_Ex', -3.4849688182782317),\n",
       " ('MSZoning_RH', -3.5171554829545069),\n",
       " ('Exterior2nd_HdBoard', -3.6047020582330096),\n",
       " ('LotFrontage', 3.6178495019945629),\n",
       " ('MiscFeature_Othr', 3.6292275019238658),\n",
       " ('Exterior2nd_Plywood', -3.6508807268135817),\n",
       " ('BsmtExposure_Av', 3.6994173326510147),\n",
       " ('EnclosedPorch', 3.7284117702759296),\n",
       " ('MSZoning_RM', -3.7564997247230978),\n",
       " ('BedroomAbvGr', -3.76110647575016),\n",
       " ('Exterior2nd_Brk Cmn', 3.7966249331845394),\n",
       " ('MasVnrType_None', 3.8045429646848605),\n",
       " ('Exterior2nd_MetalSd', -3.9056403480051056),\n",
       " ('Condition1_PosA', -4.0179123939514243),\n",
       " ('GarageType_Detchd', -4.0980609637527943),\n",
       " ('PavedDrive_P', -4.1121409028896236),\n",
       " ('Functional_Maj2', 4.1377092287097978),\n",
       " ('ExterCond_Gd', -4.171490947556781),\n",
       " ('Exterior2nd_Stucco', -4.1749806158399698),\n",
       " ('Exterior2nd_Wd Sdng', -4.1756986190315226),\n",
       " ('ExterCond_Po', -4.4345251009701041),\n",
       " ('ExterCond_TA', -4.4346783662124869),\n",
       " ('MSZoning_RL', 4.4850576035861884),\n",
       " ('GarageCond_Po', -4.5351232765507064),\n",
       " ('BsmtExposure_Gd', -4.5405038074407118),\n",
       " ('BsmtFinSF2', 4.5982499775524914),\n",
       " ('HouseStyle_SLvl', -4.6735763527613239),\n",
       " ('PoolQC_Ex', 4.745491338410913),\n",
       " ('HouseStyle_2Story', 4.8954904163853419),\n",
       " ('SaleCondition_Family', -4.9543340626772343),\n",
       " ('Neighborhood_SWISU', 4.9638549533762726),\n",
       " ('Neighborhood_NPkVill', -5.2920483955923405),\n",
       " ('Functional_Min2', -5.4709325208032755),\n",
       " ('Id', 5.6855357842226715),\n",
       " ('PoolQC_Gd', 5.7253920621568914),\n",
       " ('Exterior1st_BrkFace', 5.9391072021724822),\n",
       " ('FireplaceQu_Po', -5.9494619560739741),\n",
       " ('HouseStyle_1.5Fin', -6.2746484518403873),\n",
       " ('YearRemodAdd', -6.352321627858676),\n",
       " ('LandSlope_Gtl', -6.4159688953560705),\n",
       " ('MiscFeature_Gar2', 6.4507533482417028),\n",
       " ('Functional_Typ', 6.5015698106245869),\n",
       " ('Heating_Grav', 6.5321849017981704),\n",
       " ('GarageType_CarPort', 7.5283136745680359),\n",
       " ('Fence_GdPrv', -7.750891889962543),\n",
       " ('BsmtHalfBath', 8.6178181193962402),\n",
       " ('ScreenPorch', 9.0589521493834226),\n",
       " ('Condition1_Feedr', 9.402145585761879),\n",
       " ('BldgType_2fmCon', 9.8330002946818809),\n",
       " ('RoofStyle_Mansard', 9.9254811494017989),\n",
       " ('LotConfig_FR2', 9.9372892917114974),\n",
       " ('TotalSF', -10.195311549137656),\n",
       " ('MiscVal', 10.409069775876082),\n",
       " ('Electrical_FuseA', -10.963882193076589),\n",
       " ('Exterior1st_AsbShng', 12.736246012004164),\n",
       " ('Neighborhood_Veenker', 14.106115145151213),\n",
       " ('BsmtFinType2_ALQ', 15.135085779296841),\n",
       " ('SaleCondition_Partial', 16.193507679703448),\n",
       " ('GarageCond_TA', 18.541902129278785),\n",
       " ('FireplaceQu_Gd', 19.978250145342962),\n",
       " ('Foundation_Stone', 21.583624951381783),\n",
       " ('CentralAir_Y', 28.665608480760852),\n",
       " ('LotConfig_Corner', 80.172389772637047),\n",
       " ('Utilities_AllPub', -80.172389772637061),\n",
       " ('Exterior2nd_AsbShng', 99.561574018399227),\n",
       " ('MasVnrType_BrkCmn', 99.561574018399227)]"
      ]
     },
     "execution_count": 479,
     "metadata": {},
     "output_type": "execute_result"
    }
   ],
   "source": [
    "#Regression\n",
    "\n",
    "price = trainfile[\"SalePrice\"]\n",
    "\n",
    "#I choose eta0 as .01 because .01 generally serves pretty well for initial models\n",
    "linear_regression_model = SGDRegressor(eta0=.01)\n",
    "\n",
    "linear_regression_model.fit(s_trainfile, price)\n",
    "sorted(list(zip(trainfile.columns, linear_regression_model.coef_)), key=lambda x: abs(x[1]))"
   ]
  },
  {
   "cell_type": "markdown",
   "metadata": {},
   "source": [
    "Now let's split our training data into a training part and a testing part."
   ]
  },
  {
   "cell_type": "code",
   "execution_count": 480,
   "metadata": {},
   "outputs": [],
   "source": [
    "X_train, X_test, y_train, y_test = train_test_split(s_trainfile, price, test_size=0.2, random_state=42) \n",
    "#My preliminary choice of test_size is because it looks like with .2, the model does comparatively well while still having quite a large test set -- thus, giving the model more external robustness"
   ]
  },
  {
   "cell_type": "markdown",
   "metadata": {},
   "source": [
    "Let's see how well a regression predicts prices in our new testing data"
   ]
  },
  {
   "cell_type": "code",
   "execution_count": 481,
   "metadata": {},
   "outputs": [
    {
     "name": "stdout",
     "output_type": "stream",
     "text": [
      "Train MSE: 23.382565226708373\n",
      "Test MSE: 33.32503068073955\n"
     ]
    }
   ],
   "source": [
    "#I now choose eta0 = .001 because its MSE's come out better than for .01 and .0001\n",
    "linear_regression_model = SGDRegressor(eta0=.001)\n",
    "linear_regression_model.fit(X_train, y_train)\n",
    "train_predictions = linear_regression_model.predict(X_train)\n",
    "test_predictions = linear_regression_model.predict(X_test)\n",
    "\n",
    "train_mse = mean_squared_error(y_train, train_predictions)\n",
    "test_mse = mean_squared_error(y_test, test_predictions)\n",
    "\n",
    "print(\"Train MSE: {}\".format(train_mse))\n",
    "print(\"Test MSE: {}\".format(test_mse))"
   ]
  },
  {
   "cell_type": "code",
   "execution_count": 482,
   "metadata": {
    "collapsed": true
   },
   "outputs": [],
   "source": [
    "## source: http://scikit-learn.org/0.15/auto_examples/plot_learning_curve.html (Tyler showed us this function in class)\n",
    "def plot_learning_curve(estimator, title, X, y, ylim=None, cv=None,\n",
    "                        n_jobs=1, train_sizes=np.linspace(.1, 1.0, 5)):\n",
    "    \n",
    "    plt.figure()\n",
    "    plt.title(title)\n",
    "    if ylim is not None:\n",
    "        plt.ylim(*ylim)\n",
    "    plt.xlabel(\"Training examples\")\n",
    "    plt.ylabel(\"Score\")\n",
    "    train_sizes, train_scores, test_scores = learning_curve(\n",
    "        estimator, X, y, cv=cv, n_jobs=n_jobs, train_sizes=train_sizes, scoring=make_scorer(mean_squared_error))\n",
    "    train_scores_mean = np.mean(train_scores, axis=1)\n",
    "    train_scores_std = np.std(train_scores, axis=1)\n",
    "    test_scores_mean = np.mean(test_scores, axis=1)\n",
    "    test_scores_std = np.std(test_scores, axis=1)\n",
    "    plt.grid()\n",
    "\n",
    "    plt.fill_between(train_sizes, train_scores_mean - train_scores_std,\n",
    "                     train_scores_mean + train_scores_std, alpha=0.1,\n",
    "                     color=\"r\")\n",
    "    plt.fill_between(train_sizes, test_scores_mean - test_scores_std,\n",
    "                     test_scores_mean + test_scores_std, alpha=0.1, color=\"g\")\n",
    "    plt.plot(train_sizes, train_scores_mean, 'o-', color=\"r\",\n",
    "             label=\"Training score\")\n",
    "    plt.plot(train_sizes, test_scores_mean, 'o-', color=\"g\",\n",
    "             label=\"Cross-validation score\")\n",
    "\n",
    "    plt.legend(loc=\"best\")\n",
    "    return plt"
   ]
  },
  {
   "cell_type": "code",
   "execution_count": 483,
   "metadata": {},
   "outputs": [
    {
     "data": {
      "text/plain": [
       "<module 'matplotlib.pyplot' from 'C:\\\\Users\\\\Ben Smith\\\\Anaconda3\\\\lib\\\\site-packages\\\\matplotlib\\\\pyplot.py'>"
      ]
     },
     "execution_count": 483,
     "metadata": {},
     "output_type": "execute_result"
    },
    {
     "data": {
      "image/png": "[encoded data removed]",
      "text/plain": [
       "<matplotlib.figure.Figure at 0x1a3d4845898>"
      ]
     },
     "metadata": {},
     "output_type": "display_data"
    }
   ],
   "source": [
    "plot_learning_curve(linear_regression_model, \"Learning Curve\", X_train, y_train, cv=5)"
   ]
  },
  {
   "cell_type": "markdown",
   "metadata": {},
   "source": [
    "It looks like the more training examples, the better.\n",
    "\n",
    "This model still doesn't seem to do too perfectly, though. Let's try tweaking it."
   ]
  },
  {
   "cell_type": "code",
   "execution_count": 484,
   "metadata": {},
   "outputs": [
    {
     "name": "stdout",
     "output_type": "stream",
     "text": [
      "Best Parameters: {'eta0': 0.005}\n",
      "Best Negative MSE: -9.871016178227983\n"
     ]
    }
   ],
   "source": [
    "#Let's see what the best eta0 is\n",
    "param_dist = {\"eta0\": [ .0001, .001, .003, .004, .005, .006, .01, .03, .1, .3, 1, 3]}\n",
    "\n",
    "linear_regression_model = SGDRegressor()\n",
    "\n",
    "n_iter_search = 12\n",
    "random_search = RandomizedSearchCV(linear_regression_model, param_distributions=param_dist,\n",
    "                                   n_iter=n_iter_search, cv=3, scoring='neg_mean_squared_error')\n",
    "random_search.fit(X_train, y_train)\n",
    "\n",
    "print(\"Best Parameters: {}\".format(random_search.best_params_))\n",
    "print(\"Best Negative MSE: {}\".format(random_search.best_score_))"
   ]
  },
  {
   "cell_type": "markdown",
   "metadata": {},
   "source": [
    "So, let's use eta0 = 0.004 or 0.005 from now on for Linear Regressions.\n",
    "\n",
    "Now let's check out Elastic Net."
   ]
  },
  {
   "cell_type": "code",
   "execution_count": 485,
   "metadata": {},
   "outputs": [
    {
     "name": "stdout",
     "output_type": "stream",
     "text": [
      "Train MSE: 0.007733192890435347\n",
      "Test MSE: 0.010481276953662199\n"
     ]
    }
   ],
   "source": [
    "clf = ElasticNetCV(l1_ratio=[.1, .5, .7, .9, .95, .99, 1], alphas=[.1, 1, 10])\n",
    "clf.fit(X_train, y_train)\n",
    "train_predictions = clf.predict(X_train)\n",
    "test_predictions = clf.predict(X_test)\n",
    "print(\"Train MSE: {}\".format(mean_squared_error(y_train, train_predictions)))\n",
    "print(\"Test MSE: {}\".format(mean_squared_error(y_test, test_predictions)))"
   ]
  },
  {
   "cell_type": "markdown",
   "metadata": {},
   "source": [
    "Elastic Net seems to overfit a little, like linear regression did above. However, this Test MSE is fantastic.\n",
    "\n",
    "Let's try K-Nearest Neighbors."
   ]
  },
  {
   "cell_type": "code",
   "execution_count": 486,
   "metadata": {},
   "outputs": [
    {
     "name": "stdout",
     "output_type": "stream",
     "text": [
      "Best Params: {'n_neighbors': 7, 'p': 1, 'weights': 'distance'}\n",
      "Train MSE: 0.0\tTest MSE: 0.04104816792192831\n"
     ]
    }
   ],
   "source": [
    "#Check what the best parameters and MSE are for K-Nearest Neighbors\n",
    "\n",
    "X_train, X_test, y_train, y_test = train_test_split(trainfile, price, test_size=0.20, random_state=42)\n",
    "\n",
    "reg = KNeighborsRegressor()\n",
    "gridsearch = GridSearchCV(reg, {\"n_neighbors\": [1, 3, 5, 7, 9, 11], \"weights\": ['uniform', 'distance'], \n",
    "                                'p': [1, 2, 3]}, scoring='neg_mean_squared_error')\n",
    "gridsearch.fit(X_train, y_train)\n",
    "print(\"Best Params: {}\".format(gridsearch.best_params_))\n",
    "y_pred_train = gridsearch.predict(X_train)\n",
    "y_pred_test = gridsearch.predict(X_test)\n",
    "print(\"Train MSE: {}\\tTest MSE: {}\".format(mean_squared_error(y_train, y_pred_train),\n",
    "                                           mean_squared_error(y_test, y_pred_test)))"
   ]
  },
  {
   "cell_type": "markdown",
   "metadata": {},
   "source": [
    "So, it looks like 3 is the best value for K and 1 is the best value for p. Even with these values, K-Nearest Neighbors does't predict as well as elastic net did."
   ]
  },
  {
   "cell_type": "markdown",
   "metadata": {},
   "source": [
    "Last but not least, there are some great kernels on Kaggle. Let's try one of the models other people suggest: XGBoost."
   ]
  },
  {
   "cell_type": "code",
   "execution_count": 495,
   "metadata": {},
   "outputs": [
    {
     "name": "stdout",
     "output_type": "stream",
     "text": [
      "Mean Squared Error : 0.00014768820886780775\n"
     ]
    }
   ],
   "source": [
    "new_model = XGBRegressor()\n",
    "\n",
    "new_model.fit(X_train, y_train, verbose=False)\n",
    "\n",
    "# make predictions\n",
    "predictions = new_model.predict(X_test)\n",
    "mse = mean_squared_error(predictions, y_test)\n",
    "print(\"Mean Squared Error : {}\".format(mse))"
   ]
  },
  {
   "cell_type": "markdown",
   "metadata": {},
   "source": [
    "This MSE is really good!!"
   ]
  },
  {
   "cell_type": "markdown",
   "metadata": {},
   "source": [
    "Let's see if we can do any better by adjusting the hyperparameters."
   ]
  },
  {
   "cell_type": "code",
   "execution_count": 496,
   "metadata": {},
   "outputs": [
    {
     "name": "stdout",
     "output_type": "stream",
     "text": [
      "min test MSE: 4.88720185249e-05\n",
      "Best n: 1000\n",
      "Best l: 0.01\n",
      "Best s: 15\n",
      "train MSE 2.11296782033e-06\n"
     ]
    }
   ],
   "source": [
    "#These are the parameters I'm testing\n",
    "n_ops = [100, 500, 1000]\n",
    "lr_ops = [0.005, 0.01, 0.05]\n",
    "early_stopping_rounds_ops = [5, 10, 15]\n",
    "\n",
    "min_mse = 100000.000\n",
    "\n",
    "#This is a huge loop to see which parameters are best\n",
    "for n in n_ops:\n",
    "    for l in lr_ops:\n",
    "        for s in early_stopping_rounds_ops:\n",
    "            my_model = XGBRegressor(n_estimators=n, learning_rate=l)\n",
    "            my_model.fit(X_train, y_train, early_stopping_rounds=s, \n",
    "                         eval_set=[(X_test, y_test)], verbose=False)\n",
    "            predictions = my_model.predict(X_test)\n",
    "            mse = mean_squared_error(predictions, y_test)\n",
    "            min_mse = min(min_mse, mse)\n",
    "            if min_mse == mse:\n",
    "                best_n = n\n",
    "                best_l = l\n",
    "                best_s = s\n",
    "                \n",
    "\n",
    "print(\"min test MSE:\", min_mse)\n",
    "print(\"Best n:\", best_n)\n",
    "print(\"Best l:\", best_l)\n",
    "print(\"Best s:\", best_s)\n",
    "\n",
    "my_model = XGBRegressor(n_estimators=best_n, learning_rate=best_l)\n",
    "my_model.fit(X_train, y_train, early_stopping_rounds=best_s, \n",
    "             eval_set=[(X_test, y_test)], verbose=False)\n",
    "\n",
    "train_mse = mean_squared_error(my_model.predict(X_train), y_train)\n",
    "print(\"train MSE\", train_mse)"
   ]
  },
  {
   "cell_type": "markdown",
   "metadata": {},
   "source": [
    "We seem to be overfitting a little (high variance), but this looks great. Now let's predict the prices for our test file using our modified XGBoost!"
   ]
  },
  {
   "cell_type": "code",
   "execution_count": 498,
   "metadata": {},
   "outputs": [
    {
     "name": "stdout",
     "output_type": "stream",
     "text": [
      "Training Mean Squared Error : 0.0073298949711804815\n",
      "[ 120378.9296875  161457.046875   186361.046875  ...,  154875.625\n",
      "  120799.734375   235883.046875 ]\n"
     ]
    }
   ],
   "source": [
    "#X_train, y_train = train_test_split(trainfile, price, test_size=0, random_state=42)\n",
    "\n",
    "new_model = XGBRegressor(n_estimators=best_n, learning_rate=best_l)\n",
    "\n",
    "new_X_train = trainfile[trainfile.columns.drop('SalePrice')]\n",
    "\n",
    "#early_stopping_rounds isn't going into this command nicely, so I'm leaving it out for now\n",
    "new_model.fit(new_X_train, price, verbose=False)\n",
    "\n",
    "#Predict\n",
    "new_test_predictions = new_model.predict(testfile)\n",
    "\n",
    "#Undo the log function we took on y near the beginning\n",
    "final_predictions = np.expm1(new_test_predictions)\n",
    "\n",
    "print(\"Training Mean Squared Error : {}\".format(mean_squared_error(new_model.predict(new_X_train), price)))\n",
    "\n",
    "print(final_predictions)\n",
    "\n",
    "#Save the submission file\n",
    "submission = pd.DataFrame({'Id': testfile.Id, 'SalePrice': final_predictions})\n",
    "\n",
    "submission.to_csv('submission.csv', index=False)"
   ]
  },
  {
   "cell_type": "markdown",
   "metadata": {},
   "source": [
    "Let's see if our predictions look reasonable on a graph."
   ]
  },
  {
   "cell_type": "code",
   "execution_count": 499,
   "metadata": {},
   "outputs": [
    {
     "data": {
      "text/plain": [
       "<matplotlib.text.Text at 0x1a3d3bb85c0>"
      ]
     },
     "execution_count": 499,
     "metadata": {},
     "output_type": "execute_result"
    },
    {
     "data": {
      "image/png": "[encoded data removed]",
      "text/plain": [
       "<matplotlib.figure.Figure at 0x1a3d5d3c710>"
      ]
     },
     "metadata": {},
     "output_type": "display_data"
    }
   ],
   "source": [
    "sns.distplot(final_predictions , fit=norm);\n",
    "\n",
    "#Get mean and std. dev.\n",
    "(mu, sigma) = norm.fit(final_predictions)\n",
    "\n",
    "plt.legend(['Normal dist. ($\\mu=$ {:.2f} and $\\sigma=$ {:.2f} )'.format(mu, sigma)],\n",
    "            loc='best')\n",
    "plt.ylabel('Frequency')\n",
    "plt.title('Predicted SalePrice distribution')"
   ]
  },
  {
   "cell_type": "markdown",
   "metadata": {},
   "source": [
    "This distribution certainly looks a lot like the training set's price distribution!"
   ]
  },
  {
   "cell_type": "code",
   "execution_count": 500,
   "metadata": {},
   "outputs": [
    {
     "name": "stdout",
     "output_type": "stream",
     "text": [
      "MSE in  Blmngtn : 0.00831520356246\n",
      "MSE in  Blueste : 0.00132286770237\n",
      "MSE in  BrDale : 0.00434906359198\n",
      "MSE in  BrkSide : 0.0079166090243\n",
      "MSE in  ClearCr : 0.00988377959961\n",
      "MSE in  CollgCr : 0.00424557740606\n",
      "MSE in  Crawfor : 0.00630996410566\n",
      "MSE in  Edwards : 0.0115303322138\n",
      "MSE in  Gilbert : 0.00469707070392\n",
      "MSE in  IDOTRR : 0.00892323336595\n",
      "MSE in  MeadowV : 0.00527477162057\n",
      "MSE in  Mitchel : 0.00714333495587\n",
      "MSE in  NAmes : 0.00624809202777\n",
      "MSE in  NoRidge : 0.00546785538031\n",
      "MSE in  NPkVill : 0.00150117501772\n",
      "MSE in  NridgHt : 0.00536165003298\n",
      "MSE in  NWAmes : 0.0106006275766\n",
      "MSE in  OldTown : 0.0106566633797\n",
      "MSE in  SWISU : 0.00694158933353\n",
      "MSE in  Sawyer : 0.0117573599978\n",
      "MSE in  SawyerW : 0.00455744267052\n",
      "MSE in  Somerst : 0.00787768209967\n",
      "MSE in  StoneBr : 0.0107672948792\n",
      "MSE in  Timber : 0.00395790431523\n",
      "MSE in  Veenker : 0.00581839525028\n"
     ]
    }
   ],
   "source": [
    "#Let's look at whether there are places where this model performs poorly or exceptionally well\n",
    "\n",
    "places = ['Blmngtn', 'Blueste', 'BrDale', 'BrkSide', 'ClearCr', 'CollgCr', 'Crawfor', 'Edwards', 'Gilbert', 'IDOTRR', 'MeadowV', 'Mitchel', 'NAmes', 'NoRidge', 'NPkVill', 'NridgHt', 'NWAmes', 'OldTown', 'SWISU', 'Sawyer', 'SawyerW', 'Somerst', 'StoneBr', 'Timber', 'Veenker']\n",
    "\n",
    "for p in places:\n",
    "    str = \"Neighborhood_\" + p\n",
    "    cond = (new_X_train[str] == 1)\n",
    "    X_new = new_X_train[cond]\n",
    "    y_new = price[cond]\n",
    "    #for i in new_X_train['Neighborhood']:\n",
    "        #if new_X_train['Neighborhood'][i] != p:\n",
    "            #X_new = new_X_train[new_X_train.index.drop(i)]\n",
    "            #y_new = price[price.drop(i)]\n",
    "    new_predictions = new_model.predict(X_new)\n",
    "    new_mse = mean_squared_error(new_predictions, y_new)\n",
    "    print(\"MSE in \", p, \":\", new_mse) "
   ]
  },
  {
   "cell_type": "code",
   "execution_count": 501,
   "metadata": {
    "collapsed": true
   },
   "outputs": [],
   "source": [
    "#In every case, there is some slight MSE. But, the MSE's are so small that it's hard to imagine companies having very many complaints as a result of the predictions.\n",
    "\n",
    "#In any case, the poorest predictions are in: Sawyer, Edwards, StoneBr, OldTown, and NWAmes\n",
    "#The best predictions are in: Blueste, NPKVill, and Timber"
   ]
  },
  {
   "cell_type": "markdown",
   "metadata": {},
   "source": [
    "## Summary"
   ]
  },
  {
   "cell_type": "markdown",
   "metadata": {},
   "source": [
    "Model Selection:\n",
    "    \n",
    "I chose the models I did because they are not too complicated, but they are excellent for predicting in this type of scenario.\n",
    "\n",
    "Linear regression and elastic net work by linear regression, meaning simply minimizing the sum of squared errors with a line, with a couple extra cost functions in the case of elastic net. They both assume linear independence of variables (although parameters can still go to 0 in elastic net) and normality of the y-variable's distribution.\n",
    "\n",
    "K-nearest neighbors is a method that uses the \"k\" nearest neighbors to each of certain points to discover relationships between each group of neighbors. One strength of this method is that it doesn't require data to be split into a training part and a testing part. However, it assumes that distance is meaningful, which it actually isn't always when higher dimensions are used.\n",
    "\n",
    "XGBoost, in the words of DanB, is \"an implementation of the Gradient Boosted Decision Trees algorithm.\" Thus, it is a more advanced model that goes through cycles until it reaches the best parameters it can predict. It is best with good (not so noisy) data and it does have a possibility of overpredicting. An implicit assumption in this and the other models is that the variables are independent and identically distributed. Whether the variables in this dataset are or not is not in my control, unfortunately. So, I went with that assumption.\n",
    "\n",
    "I cleaned the data by dealing with outliers and missing values, as well as by making the y variable normally distibuted. The \"curse of Dimensionality\" also shouldn't apply because we have several times more observations than variables.\n",
    "\n",
    "My hyper-parameters were selected by the processes discussed in the code."
   ]
  },
  {
   "cell_type": "markdown",
   "metadata": {},
   "source": [
    "Model Interpretation:\n",
    "\n",
    "The results of this model tell me that the test data looks like it is distributed similarly to the training data. \n",
    "\n",
    "The most influential variables in this model appear to be the following dummy variables: Utilities_AllPub (negative), LotConfig_Corner (positive), MasVnrType_BrkCmn (positive), Exterior1st_AsbShng (negative), BldgType_2fmCon (negative) and Exterior2nd_AsbShng (positive). MiscVal also tends to have a heavy positive effect.\n",
    "\n",
    "To compensate for the somewhat high variance in my model, I could try dropping variables. However, the variance doesn't look to me like it is high enough that dropping variables would make much of a difference.\n",
    "\n",
    "After looking at the graph of predicted prices just above, I feel very confident in my results."
   ]
  },
  {
   "cell_type": "markdown",
   "metadata": {},
   "source": [
    "Model Usefulness:\n",
    "    \n",
    "I think my model is very useful. I recommend using it with the parameters I found to be best (n=1000 and lr=.01). It can be used to predict housing prices in any community along the same distribution as this one.\n",
    "\n",
    "In the cases where my model performs most poorly (although it still performs extremely well even then), I would recommend that if they are wary about estimates for those local houses, then they should maybe add an extra $4,000 (about 5% of a standard deviation) to the model's prediction, so that more often, people won't have to pay more than they expect to. However, that shouldn't be necessary, since the highest community-level MSE on the log of SalesPrices hovers around .01, which means that the average error lies around 1% away from the true price value. This is pretty accurate, and for most communities, the MSE is much lower, even near .001."
   ]
  }
 ],
 "metadata": {
  "kernelspec": {
   "display_name": "Python 3",
   "language": "python",
   "name": "python3"
  },
  "language_info": {
   "codemirror_mode": {
    "name": "ipython",
    "version": 3
   },
   "file_extension": ".py",
   "mimetype": "text/x-python",
   "name": "python",
   "nbconvert_exporter": "python",
   "pygments_lexer": "ipython3",
   "version": "3.6.1"
  }
 },
 "nbformat": 4,
 "nbformat_minor": 2
}
